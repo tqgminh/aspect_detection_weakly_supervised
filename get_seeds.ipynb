{
 "cells": [
  {
   "cell_type": "code",
   "execution_count": 1,
   "metadata": {},
   "outputs": [],
   "source": [
    "from sklearn.feature_extraction.text import TfidfVectorizer\n",
    "import numpy as np\n",
    "from collections import Counter, OrderedDict"
   ]
  },
  {
   "cell_type": "markdown",
   "metadata": {},
   "source": [
    "## Restaurant"
   ]
  },
  {
   "cell_type": "code",
   "execution_count": 2,
   "metadata": {},
   "outputs": [],
   "source": [
    "aspect2id = {\n",
    "    'RESTAURANT': 0,\n",
    "    'FOOD': 1,\n",
    "    'DRINKS': 2,\n",
    "    'LOCATION': 3,\n",
    "    'AMBIENCE': 4,\n",
    "    'SERVICE': 5,\n",
    "}"
   ]
  },
  {
   "cell_type": "code",
   "execution_count": 3,
   "metadata": {},
   "outputs": [],
   "source": [
    "sents = ''\n",
    "sent_of_aspects = {}\n",
    "\n",
    "r = open('processed/restaurant_dev.txt', 'r', encoding='utf-8')\n",
    "txt = r.read().split('\\n')[:-1]\n",
    "r.close()\n",
    "for line in txt:\n",
    "    sent = line.split('|')[0]\n",
    "    aspect = line.split('|')[1]\n",
    "    label = aspect2id[aspect]\n",
    "    sents = sents + sent + ' '\n",
    "    if label not in sent_of_aspects:\n",
    "        sent_of_aspects[label] = []\n",
    "        sent_of_aspects[label].append(sent + ' ')\n",
    "    else:\n",
    "        sent_of_aspects[label][0] = sent_of_aspects[label][0] + sent +' '"
   ]
  },
  {
   "cell_type": "code",
   "execution_count": 4,
   "metadata": {},
   "outputs": [
    {
     "name": "stderr",
     "output_type": "stream",
     "text": [
      "C:\\Users\\minht\\AppData\\Local\\Programs\\Python\\Python39\\lib\\site-packages\\sklearn\\utils\\deprecation.py:87: FutureWarning: Function get_feature_names is deprecated; get_feature_names is deprecated in 1.0 and will be removed in 1.2. Please use get_feature_names_out instead.\n",
      "  warnings.warn(msg, category=FutureWarning)\n"
     ]
    }
   ],
   "source": [
    "vectorizer = TfidfVectorizer(norm='l1')\n",
    "t = vectorizer.fit_transform([sents])\n",
    "t = dict(zip(vectorizer.get_feature_names(), t.toarray()[0]))"
   ]
  },
  {
   "cell_type": "code",
   "execution_count": 5,
   "metadata": {},
   "outputs": [],
   "source": [
    "seeds = {}\n",
    "for label in sent_of_aspects:\n",
    "    vectorizer = TfidfVectorizer(norm='l1')\n",
    "    ta = vectorizer.fit_transform(sent_of_aspects[label])\n",
    "    ta = dict(zip(vectorizer.get_feature_names(), ta.toarray()[0]))\n",
    "    score = {}\n",
    "    for word in ta:\n",
    "        score[word] = ta[word] * np.log2(ta[word] / t[word])\n",
    "    score = {k: v for k, v in sorted(score.items(), key=lambda item: item[1])}\n",
    "    score = Counter(score)\n",
    "    score = score.most_common(30)\n",
    "    seeds[label] = []\n",
    "    for (word, sc) in score:\n",
    "        seeds[label].append(word)\n",
    "    "
   ]
  },
  {
   "cell_type": "code",
   "execution_count": 6,
   "metadata": {},
   "outputs": [],
   "source": [
    "od = OrderedDict(sorted(seeds.items()))\n",
    "w = open('wordset/restaurant_seeds.txt', 'w', encoding='utf-8')\n",
    "for k, v in od.items():\n",
    "    for word in od[k]:\n",
    "        w.write(word + '|')\n",
    "    w.write('\\n')\n",
    "w.close()"
   ]
  },
  {
   "cell_type": "markdown",
   "metadata": {},
   "source": [
    "## Hotel"
   ]
  },
  {
   "cell_type": "code",
   "execution_count": 7,
   "metadata": {},
   "outputs": [],
   "source": [
    "aspect2id = {\n",
    "    'ROOM_AMENITIES': 0,\n",
    "    'SERVICE' : 1,\n",
    "    'ROOMS' : 2,\n",
    "    'LOCATION': 3,\n",
    "    'FOOD&DRINKS' : 4,\n",
    "    'FACILITIES': 5,\n",
    "    'HOTEL': 6,\n",
    "}"
   ]
  },
  {
   "cell_type": "code",
   "execution_count": 8,
   "metadata": {},
   "outputs": [],
   "source": [
    "sents = ''\n",
    "sent_of_aspects = {}\n",
    "\n",
    "r = open('processed/hotel_dev.txt', 'r', encoding='utf-8')\n",
    "txt = r.read().split('\\n')[:-1]\n",
    "r.close()\n",
    "for line in txt:\n",
    "    sent = line.split('|')[0]\n",
    "    aspect = line.split('|')[1]\n",
    "    label = aspect2id[aspect]\n",
    "    sents = sents + sent + ' '\n",
    "    if label not in sent_of_aspects:\n",
    "        sent_of_aspects[label] = []\n",
    "        sent_of_aspects[label].append(sent + ' ')\n",
    "    else:\n",
    "        sent_of_aspects[label][0] = sent_of_aspects[label][0] + sent +' '"
   ]
  },
  {
   "cell_type": "code",
   "execution_count": 9,
   "metadata": {},
   "outputs": [],
   "source": [
    "vectorizer = TfidfVectorizer(norm='l1')\n",
    "t = vectorizer.fit_transform([sents])\n",
    "t = dict(zip(vectorizer.get_feature_names(), t.toarray()[0]))"
   ]
  },
  {
   "cell_type": "code",
   "execution_count": 10,
   "metadata": {},
   "outputs": [],
   "source": [
    "seeds = {}\n",
    "for label in sent_of_aspects:\n",
    "    vectorizer = TfidfVectorizer(norm='l1')\n",
    "    ta = vectorizer.fit_transform(sent_of_aspects[label])\n",
    "    ta = dict(zip(vectorizer.get_feature_names(), ta.toarray()[0]))\n",
    "    score = {}\n",
    "    for word in ta:\n",
    "        score[word] = ta[word] * np.log2(ta[word] / t[word])\n",
    "    score = {k: v for k, v in sorted(score.items(), key=lambda item: item[1])}\n",
    "    score = Counter(score)\n",
    "    score = score.most_common(30)\n",
    "    seeds[label] = []\n",
    "    for (word, sc) in score:\n",
    "        seeds[label].append(word)"
   ]
  },
  {
   "cell_type": "code",
   "execution_count": 11,
   "metadata": {},
   "outputs": [],
   "source": [
    "od = OrderedDict(sorted(seeds.items()))\n",
    "w = open('wordset/hotel_seeds.txt', 'w', encoding='utf-8')\n",
    "for k, v in od.items():\n",
    "    for word in od[k]:\n",
    "        w.write(word + '|')\n",
    "    w.write('\\n')\n",
    "w.close()"
   ]
  }
 ],
 "metadata": {
  "interpreter": {
   "hash": "434cc116f6d48d25c21921e6749ffbe1617aa77001d24efb292271dc0f6f87ef"
  },
  "kernelspec": {
   "display_name": "Python 3.8.9 64-bit",
   "language": "python",
   "name": "python3"
  },
  "language_info": {
   "codemirror_mode": {
    "name": "ipython",
    "version": 3
   },
   "file_extension": ".py",
   "mimetype": "text/x-python",
   "name": "python",
   "nbconvert_exporter": "python",
   "pygments_lexer": "ipython3",
   "version": "3.9.9"
  },
  "orig_nbformat": 4
 },
 "nbformat": 4,
 "nbformat_minor": 2
}
